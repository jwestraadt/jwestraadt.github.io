{
 "cells": [
  {
   "cell_type": "code",
   "execution_count": 1,
   "metadata": {
    "collapsed": true
   },
   "outputs": [],
   "source": [
    "# General desciption of the notebook using simple comments\n",
    "# 1. Import the data from MIPAR for a given precipitate\n",
    "# 2. Apply the necessary correction factors for a thin sample [Sonderegger, B. (2006) Ultramicroscopy 106 941-950]\n",
    "# 3. Calculate diameter, Nv, phase fraction and lambda"
   ]
  },
  {
   "cell_type": "code",
   "execution_count": 1,
   "metadata": {
    "collapsed": false
   },
   "outputs": [],
   "source": [
    "# import libraries\n",
    "%matplotlib inline\n",
    "import numpy as np\n",
    "import pandas as pd\n",
    "import seaborn as sns\n",
    "import matplotlib.pyplot as plt"
   ]
  },
  {
   "cell_type": "code",
   "execution_count": 2,
   "metadata": {
    "collapsed": false
   },
   "outputs": [],
   "source": [
    "# import data\n",
    "file = 'Feature measurements (MPH219_9).txt'\n",
    "data = pd.read_csv(file, delimiter = \"\\t\")\n",
    "df = pd.DataFrame(data)"
   ]
  },
  {
   "cell_type": "code",
   "execution_count": 3,
   "metadata": {
    "collapsed": true
   },
   "outputs": [],
   "source": [
    "# specify the constant parameters\n",
    "thickness = 0.1\n",
    "area = 10*10"
   ]
  },
  {
   "cell_type": "code",
   "execution_count": 4,
   "metadata": {
    "collapsed": false
   },
   "outputs": [],
   "source": [
    "# calculate the correction factors for diameter (Method 4)\n",
    "df['Corrected'] = 2*(1/np.pi)*(df[\"Equivalent Diameter (um)\"] - thickness) \\\n",
    "    + np.sqrt((2*(1/np.pi)*df[\"Equivalent Diameter (um)\"] - thickness)**2 \\\n",
    "    + 4*df[\"Equivalent Diameter (um)\"]*thickness/np.pi)\n",
    "\n",
    "# Weighted mean diameter (Method 4)\n",
    "dmi = df[\"Equivalent Diameter (um)\"]\n",
    "d4i = df[\"Corrected\"]\n",
    "dm = np.sum(d4i*thickness/(d4i+thickness)) / np.sum(thickness/(d4i+thickness))\n",
    "\n",
    "# Number density (Method 3)\n",
    "Nv = np.sum((1/(thickness+d4i))) / area\n",
    "\n",
    "# Phase fraction (Method 3)\n",
    "Ai = df['Area (um^2)']\n",
    "fv = (1/area)*np.sum(Ai*(2*dmi/thickness)/(2*dmi+3))\n",
    "\n",
    "# Precipitate spacing (µm)\n",
    "lam = np.sqrt(np.log(3)/(2*np.pi*Nv*dm/2) + 4*(dm/2)**2) - 1.63*dm/2"
   ]
  },
  {
   "cell_type": "code",
   "execution_count": 5,
   "metadata": {
    "collapsed": false
   },
   "outputs": [
    {
     "name": "stdout",
     "output_type": "stream",
     "text": [
      "0.1\n",
      "100\n",
      "0.1572086267913278\n",
      "4.237804981884654\n",
      "0.04282486852059354\n",
      "0.613235446244\n"
     ]
    }
   ],
   "source": [
    "# descriptive stats\n",
    "print(thickness)\n",
    "print(area)\n",
    "print(dm)\n",
    "print(Nv)\n",
    "print(fv)\n",
    "print(lam)"
   ]
  },
  {
   "cell_type": "code",
   "execution_count": 6,
   "metadata": {
    "collapsed": false
   },
   "outputs": [
    {
     "data": {
      "text/plain": [
       "(array([ 0.        ,  0.61728395,  3.7037037 ,  6.17283951,  4.32098765,\n",
       "         4.62962963,  4.32098765,  2.77777778,  2.16049383,  1.2345679 ,\n",
       "         1.2345679 ,  0.61728395,  0.30864198,  0.61728395,  0.        ,\n",
       "         0.30864198,  0.30864198,  0.        ,  0.        ,  0.        ]),\n",
       " array([ 0.  ,  0.03,  0.06,  0.09,  0.12,  0.15,  0.18,  0.21,  0.24,\n",
       "         0.27,  0.3 ,  0.33,  0.36,  0.39,  0.42,  0.45,  0.48,  0.51,\n",
       "         0.54,  0.57,  0.6 ]),\n",
       " <a list of 1 Patch objects>)"
      ]
     },
     "execution_count": 6,
     "metadata": {},
     "output_type": "execute_result"
    },
    {
     "data": {
      "image/png": "[encoded data removed]",
      "text/plain": [
       "<Figure size 600x400 with 1 Axes>"
      ]
     },
     "metadata": {},
     "output_type": "display_data"
    }
   ],
   "source": [
    "# plots\n",
    "plt.hist(df[\"Equivalent Diameter (um)\"], bins = 20, range = [0.0, 0.6], histtype = \"step\", density = True)\n",
    "plt.hist(df[\"Corrected\"], bins = 20, range = [0.0, 0.6], histtype = \"step\", density = True)"
   ]
  },
  {
   "cell_type": "code",
   "execution_count": 7,
   "metadata": {
    "collapsed": false
   },
   "outputs": [
    {
     "data": {
      "text/plain": [
       "<matplotlib.axes._subplots.AxesSubplot at 0x19684538d30>"
      ]
     },
     "execution_count": 7,
     "metadata": {},
     "output_type": "execute_result"
    },
    {
     "data": {
      "image/png": "[encoded data removed]",
      "text/plain": [
       "<Figure size 600x400 with 1 Axes>"
      ]
     },
     "metadata": {},
     "output_type": "display_data"
    }
   ],
   "source": [
    "# calculate the values\n",
    "sns.kdeplot(df[\"Corrected\"], bw = 0.05, shade = True)\n",
    "sns.kdeplot(df[\"Equivalent Diameter (um)\"], bw = 0.05, shade = True)"
   ]
  },
  {
   "cell_type": "code",
   "execution_count": null,
   "metadata": {
    "collapsed": true
   },
   "outputs": [],
   "source": []
  }
 ],
 "metadata": {
  "kernelspec": {
   "display_name": "Python 3",
   "language": "python",
   "name": "python3"
  },
  "language_info": {
   "codemirror_mode": {
    "name": "ipython",
    "version": 3
   },
   "file_extension": ".py",
   "mimetype": "text/x-python",
   "name": "python",
   "nbconvert_exporter": "python",
   "pygments_lexer": "ipython3",
   "version": "3.5.2"
  }
 },
 "nbformat": 4,
 "nbformat_minor": 0
}
